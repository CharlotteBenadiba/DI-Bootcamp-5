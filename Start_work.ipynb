{
  "nbformat": 4,
  "nbformat_minor": 0,
  "metadata": {
    "colab": {
      "provenance": [],
      "authorship_tag": "ABX9TyPGuSdLmCS+LeFusGqu47O+",
      "include_colab_link": true
    },
    "kernelspec": {
      "name": "python3",
      "display_name": "Python 3"
    },
    "language_info": {
      "name": "python"
    }
  },
  "cells": [
    {
      "cell_type": "markdown",
      "metadata": {
        "id": "view-in-github",
        "colab_type": "text"
      },
      "source": [
        "<a href=\"https://colab.research.google.com/github/EvgeniaKantor/DI-Bootcamp/blob/main/Start_work.ipynb\" target=\"_parent\"><img src=\"https://colab.research.google.com/assets/colab-badge.svg\" alt=\"Open In Colab\"/></a>"
      ]
    },
    {
      "cell_type": "code",
      "execution_count": null,
      "metadata": {
        "colab": {
          "base_uri": "https://localhost:8080/"
        },
        "id": "4q61-yPk7Mjk",
        "outputId": "e94cf926-aaa4-4c4a-afad-d80cfbdf0352"
      },
      "outputs": [
        {
          "output_type": "stream",
          "name": "stdout",
          "text": [
            "Requirement already satisfied: kaggle in /usr/local/lib/python3.10/dist-packages (1.5.16)\n",
            "Requirement already satisfied: six>=1.10 in /usr/local/lib/python3.10/dist-packages (from kaggle) (1.16.0)\n",
            "Requirement already satisfied: certifi in /usr/local/lib/python3.10/dist-packages (from kaggle) (2024.2.2)\n",
            "Requirement already satisfied: python-dateutil in /usr/local/lib/python3.10/dist-packages (from kaggle) (2.8.2)\n",
            "Requirement already satisfied: requests in /usr/local/lib/python3.10/dist-packages (from kaggle) (2.31.0)\n",
            "Requirement already satisfied: tqdm in /usr/local/lib/python3.10/dist-packages (from kaggle) (4.66.2)\n",
            "Requirement already satisfied: python-slugify in /usr/local/lib/python3.10/dist-packages (from kaggle) (8.0.4)\n",
            "Requirement already satisfied: urllib3 in /usr/local/lib/python3.10/dist-packages (from kaggle) (2.0.7)\n",
            "Requirement already satisfied: bleach in /usr/local/lib/python3.10/dist-packages (from kaggle) (6.1.0)\n",
            "Requirement already satisfied: webencodings in /usr/local/lib/python3.10/dist-packages (from bleach->kaggle) (0.5.1)\n",
            "Requirement already satisfied: text-unidecode>=1.3 in /usr/local/lib/python3.10/dist-packages (from python-slugify->kaggle) (1.3)\n",
            "Requirement already satisfied: charset-normalizer<4,>=2 in /usr/local/lib/python3.10/dist-packages (from requests->kaggle) (3.3.2)\n",
            "Requirement already satisfied: idna<4,>=2.5 in /usr/local/lib/python3.10/dist-packages (from requests->kaggle) (3.6)\n"
          ]
        }
      ],
      "source": [
        "!pip install kaggle"
      ]
    },
    {
      "cell_type": "code",
      "source": [
        "from google.colab import files\n",
        "uploaded = files.upload()\n",
        "# Make directory named kaggle and copy kaggle.json file there\n",
        "!mkdir ~/.kaggle\n",
        "!cp kaggle.json ~/.kaggle/\n",
        "\n",
        "# Change the permissions of the file\n",
        "!chmod 600 ~/.kaggle/kaggle.json\n",
        "\n",
        "!kaggle datasets download -d sukhmandeepsinghbrar/total-worldwide-passenger-cars-sales"
      ],
      "metadata": {
        "colab": {
          "base_uri": "https://localhost:8080/",
          "height": 125
        },
        "id": "WGyE8nL17SPr",
        "outputId": "d8c47fd6-0657-4849-8cb7-3f4ecea90db7"
      },
      "execution_count": null,
      "outputs": [
        {
          "output_type": "display_data",
          "data": {
            "text/plain": [
              "<IPython.core.display.HTML object>"
            ],
            "text/html": [
              "\n",
              "     <input type=\"file\" id=\"files-ee528584-9b3c-4560-a7e6-236188592791\" name=\"files[]\" multiple disabled\n",
              "        style=\"border:none\" />\n",
              "     <output id=\"result-ee528584-9b3c-4560-a7e6-236188592791\">\n",
              "      Upload widget is only available when the cell has been executed in the\n",
              "      current browser session. Please rerun this cell to enable.\n",
              "      </output>\n",
              "      <script>// Copyright 2017 Google LLC\n",
              "//\n",
              "// Licensed under the Apache License, Version 2.0 (the \"License\");\n",
              "// you may not use this file except in compliance with the License.\n",
              "// You may obtain a copy of the License at\n",
              "//\n",
              "//      http://www.apache.org/licenses/LICENSE-2.0\n",
              "//\n",
              "// Unless required by applicable law or agreed to in writing, software\n",
              "// distributed under the License is distributed on an \"AS IS\" BASIS,\n",
              "// WITHOUT WARRANTIES OR CONDITIONS OF ANY KIND, either express or implied.\n",
              "// See the License for the specific language governing permissions and\n",
              "// limitations under the License.\n",
              "\n",
              "/**\n",
              " * @fileoverview Helpers for google.colab Python module.\n",
              " */\n",
              "(function(scope) {\n",
              "function span(text, styleAttributes = {}) {\n",
              "  const element = document.createElement('span');\n",
              "  element.textContent = text;\n",
              "  for (const key of Object.keys(styleAttributes)) {\n",
              "    element.style[key] = styleAttributes[key];\n",
              "  }\n",
              "  return element;\n",
              "}\n",
              "\n",
              "// Max number of bytes which will be uploaded at a time.\n",
              "const MAX_PAYLOAD_SIZE = 100 * 1024;\n",
              "\n",
              "function _uploadFiles(inputId, outputId) {\n",
              "  const steps = uploadFilesStep(inputId, outputId);\n",
              "  const outputElement = document.getElementById(outputId);\n",
              "  // Cache steps on the outputElement to make it available for the next call\n",
              "  // to uploadFilesContinue from Python.\n",
              "  outputElement.steps = steps;\n",
              "\n",
              "  return _uploadFilesContinue(outputId);\n",
              "}\n",
              "\n",
              "// This is roughly an async generator (not supported in the browser yet),\n",
              "// where there are multiple asynchronous steps and the Python side is going\n",
              "// to poll for completion of each step.\n",
              "// This uses a Promise to block the python side on completion of each step,\n",
              "// then passes the result of the previous step as the input to the next step.\n",
              "function _uploadFilesContinue(outputId) {\n",
              "  const outputElement = document.getElementById(outputId);\n",
              "  const steps = outputElement.steps;\n",
              "\n",
              "  const next = steps.next(outputElement.lastPromiseValue);\n",
              "  return Promise.resolve(next.value.promise).then((value) => {\n",
              "    // Cache the last promise value to make it available to the next\n",
              "    // step of the generator.\n",
              "    outputElement.lastPromiseValue = value;\n",
              "    return next.value.response;\n",
              "  });\n",
              "}\n",
              "\n",
              "/**\n",
              " * Generator function which is called between each async step of the upload\n",
              " * process.\n",
              " * @param {string} inputId Element ID of the input file picker element.\n",
              " * @param {string} outputId Element ID of the output display.\n",
              " * @return {!Iterable<!Object>} Iterable of next steps.\n",
              " */\n",
              "function* uploadFilesStep(inputId, outputId) {\n",
              "  const inputElement = document.getElementById(inputId);\n",
              "  inputElement.disabled = false;\n",
              "\n",
              "  const outputElement = document.getElementById(outputId);\n",
              "  outputElement.innerHTML = '';\n",
              "\n",
              "  const pickedPromise = new Promise((resolve) => {\n",
              "    inputElement.addEventListener('change', (e) => {\n",
              "      resolve(e.target.files);\n",
              "    });\n",
              "  });\n",
              "\n",
              "  const cancel = document.createElement('button');\n",
              "  inputElement.parentElement.appendChild(cancel);\n",
              "  cancel.textContent = 'Cancel upload';\n",
              "  const cancelPromise = new Promise((resolve) => {\n",
              "    cancel.onclick = () => {\n",
              "      resolve(null);\n",
              "    };\n",
              "  });\n",
              "\n",
              "  // Wait for the user to pick the files.\n",
              "  const files = yield {\n",
              "    promise: Promise.race([pickedPromise, cancelPromise]),\n",
              "    response: {\n",
              "      action: 'starting',\n",
              "    }\n",
              "  };\n",
              "\n",
              "  cancel.remove();\n",
              "\n",
              "  // Disable the input element since further picks are not allowed.\n",
              "  inputElement.disabled = true;\n",
              "\n",
              "  if (!files) {\n",
              "    return {\n",
              "      response: {\n",
              "        action: 'complete',\n",
              "      }\n",
              "    };\n",
              "  }\n",
              "\n",
              "  for (const file of files) {\n",
              "    const li = document.createElement('li');\n",
              "    li.append(span(file.name, {fontWeight: 'bold'}));\n",
              "    li.append(span(\n",
              "        `(${file.type || 'n/a'}) - ${file.size} bytes, ` +\n",
              "        `last modified: ${\n",
              "            file.lastModifiedDate ? file.lastModifiedDate.toLocaleDateString() :\n",
              "                                    'n/a'} - `));\n",
              "    const percent = span('0% done');\n",
              "    li.appendChild(percent);\n",
              "\n",
              "    outputElement.appendChild(li);\n",
              "\n",
              "    const fileDataPromise = new Promise((resolve) => {\n",
              "      const reader = new FileReader();\n",
              "      reader.onload = (e) => {\n",
              "        resolve(e.target.result);\n",
              "      };\n",
              "      reader.readAsArrayBuffer(file);\n",
              "    });\n",
              "    // Wait for the data to be ready.\n",
              "    let fileData = yield {\n",
              "      promise: fileDataPromise,\n",
              "      response: {\n",
              "        action: 'continue',\n",
              "      }\n",
              "    };\n",
              "\n",
              "    // Use a chunked sending to avoid message size limits. See b/62115660.\n",
              "    let position = 0;\n",
              "    do {\n",
              "      const length = Math.min(fileData.byteLength - position, MAX_PAYLOAD_SIZE);\n",
              "      const chunk = new Uint8Array(fileData, position, length);\n",
              "      position += length;\n",
              "\n",
              "      const base64 = btoa(String.fromCharCode.apply(null, chunk));\n",
              "      yield {\n",
              "        response: {\n",
              "          action: 'append',\n",
              "          file: file.name,\n",
              "          data: base64,\n",
              "        },\n",
              "      };\n",
              "\n",
              "      let percentDone = fileData.byteLength === 0 ?\n",
              "          100 :\n",
              "          Math.round((position / fileData.byteLength) * 100);\n",
              "      percent.textContent = `${percentDone}% done`;\n",
              "\n",
              "    } while (position < fileData.byteLength);\n",
              "  }\n",
              "\n",
              "  // All done.\n",
              "  yield {\n",
              "    response: {\n",
              "      action: 'complete',\n",
              "    }\n",
              "  };\n",
              "}\n",
              "\n",
              "scope.google = scope.google || {};\n",
              "scope.google.colab = scope.google.colab || {};\n",
              "scope.google.colab._files = {\n",
              "  _uploadFiles,\n",
              "  _uploadFilesContinue,\n",
              "};\n",
              "})(self);\n",
              "</script> "
            ]
          },
          "metadata": {}
        },
        {
          "output_type": "stream",
          "name": "stdout",
          "text": [
            "Saving kaggle.json to kaggle.json\n",
            "Downloading weather-dataset.zip to /content\n",
            "  0% 0.00/2.23M [00:00<?, ?B/s]\n",
            "100% 2.23M/2.23M [00:00<00:00, 75.5MB/s]\n"
          ]
        }
      ]
    },
    {
      "cell_type": "code",
      "source": [
        "!kaggle datasets download -d sukhmandeepsinghbrar/total-worldwide-passenger-cars-sales"
      ],
      "metadata": {
        "colab": {
          "base_uri": "https://localhost:8080/"
        },
        "id": "Fcj_NlGg7sNT",
        "outputId": "ccef0fc2-bc96-4a4b-9e11-ab9b2a713d50"
      },
      "execution_count": null,
      "outputs": [
        {
          "output_type": "stream",
          "name": "stdout",
          "text": [
            "total-worldwide-passenger-cars-sales.zip: Skipping, found more recently modified local copy (use --force to force download)\n"
          ]
        }
      ]
    },
    {
      "cell_type": "code",
      "source": [
        "import pandas as pd"
      ],
      "metadata": {
        "id": "8MlFotQE8yHU"
      },
      "execution_count": null,
      "outputs": []
    },
    {
      "cell_type": "code",
      "source": [
        "!kaggle datasets download -d thedevastator/how-much-sleep-do-americans-really-get"
      ],
      "metadata": {
        "colab": {
          "base_uri": "https://localhost:8080/"
        },
        "id": "lE4GTiWj-NqQ",
        "outputId": "522c8727-4425-4e3c-c67c-ae6c0ea60f18"
      },
      "execution_count": null,
      "outputs": [
        {
          "output_type": "stream",
          "name": "stdout",
          "text": [
            "Downloading how-much-sleep-do-americans-really-get.zip to /content\n",
            "\r  0% 0.00/7.62k [00:00<?, ?B/s]\n",
            "\r100% 7.62k/7.62k [00:00<00:00, 12.3MB/s]\n"
          ]
        }
      ]
    },
    {
      "cell_type": "code",
      "source": [
        "!unzip how-much-sleep-do-americans-really-get.zip"
      ],
      "metadata": {
        "colab": {
          "base_uri": "https://localhost:8080/"
        },
        "id": "sRop3e2x-eNk",
        "outputId": "dfedb449-a428-4a31-8b31-8d23bbcb1563"
      },
      "execution_count": null,
      "outputs": [
        {
          "output_type": "stream",
          "name": "stdout",
          "text": [
            "Archive:  how-much-sleep-do-americans-really-get.zip\n",
            "  inflating: Time Americans Spend Sleeping.csv  \n"
          ]
        }
      ]
    },
    {
      "cell_type": "code",
      "source": [
        "train_data = pd.read_csv('Time Americans Spend Sleeping.csv')"
      ],
      "metadata": {
        "id": "avXo6kYV_AbM"
      },
      "execution_count": null,
      "outputs": []
    },
    {
      "cell_type": "code",
      "source": [
        "print(train_data.head())"
      ],
      "metadata": {
        "colab": {
          "base_uri": "https://localhost:8080/"
        },
        "id": "3xAxWbsd_b3U",
        "outputId": "180866fc-a369-40bc-8b5b-36fcf056ba67"
      },
      "execution_count": null,
      "outputs": [
        {
          "output_type": "stream",
          "name": "stdout",
          "text": [
            "   index  Year  Period  Avg hrs per day sleeping  Standard Error Type of Days  \\\n",
            "0      0  2003  Annual                      8.57           0.018     All days   \n",
            "1      1  2004  Annual                      8.55           0.026     All days   \n",
            "2      2  2005  Annual                      8.62           0.023     All days   \n",
            "3      3  2006  Annual                      8.63           0.024     All days   \n",
            "4      4  2007  Annual                      8.57           0.024     All days   \n",
            "\n",
            "           Age Group  Activity   Sex  \n",
            "0  15 years and over  Sleeping  Both  \n",
            "1  15 years and over  Sleeping  Both  \n",
            "2  15 years and over  Sleeping  Both  \n",
            "3  15 years and over  Sleeping  Both  \n",
            "4  15 years and over  Sleeping  Both  \n"
          ]
        }
      ]
    },
    {
      "cell_type": "markdown",
      "source": [],
      "metadata": {
        "id": "v_aA3yI7TfMd"
      }
    },
    {
      "cell_type": "markdown",
      "source": [],
      "metadata": {
        "id": "kTKQ4UItR2cZ"
      }
    },
    {
      "cell_type": "markdown",
      "source": [
        "Title: Time American Spend Sleeping\n",
        "\n",
        "Content: The dataset contains information about the average hours per day spent sleeping across multiple years.\n",
        "\n",
        "Columns:\n",
        "\n",
        "index: Index for each row.\n",
        "\n",
        "Year: The year for which the data is recorded.\n",
        "\n",
        "Period: Indicates the period over which the data was collected (appears to be annual).\n",
        "\n",
        "Avg hrs per day sleeping: Average hours per day spent sleeping.\n",
        "\n",
        "Standard Error: Standard error associated with the average hours of sleep.\n",
        "\n",
        "Type of Days: Describes the type of days the data represents (e.g., weekdays, weekends, all days).\n",
        "\n",
        "Age Group: Specifies the age group to which the data applies.\n",
        "\n",
        "Activity: Indicates the activity being measured (in this case, sleeping).\n",
        "\n",
        "Sex: Specifies the gender to which the data applies (e.g., both genders).\n",
        "\n",
        "Purpose: The dataset likely aims to provide insights into the average sleep duration among different age groups and genders over time.\n",
        "\n",
        "Source: The source of the dataset is not provided in this snippet.\n",
        "\n",
        "This dataset could be useful for studying trends in sleep duration over the years and understanding how sleep patterns vary across different demographic groups. Further analysis could involve visualizations, trend analysis, and comparisons between different groups to identify patterns or correlations."
      ],
      "metadata": {
        "id": "Wb7w7rRm__Te"
      }
    },
    {
      "cell_type": "markdown",
      "source": [
        "Certainly! Here's the categorization of each column in the dataset as either quantitative or qualitative, along with the reasoning:\n",
        "\n",
        "1. `index`:\n",
        "   - **Type:** Quantitative\n",
        "   - **Reasoning:** The index is a numeric identifier for each row in the dataset. It represents the position or order of each entry and can be treated as a quantitative variable for indexing purposes. However, it may not carry meaningful numerical information beyond its ordinality.\n",
        "\n",
        "2. `Year`:\n",
        "   - **Type:** Quantitative\n",
        "   - **Reasoning:** The year column represents discrete numerical values that denote specific calendar years. While years are discrete and countable, they also represent a temporal sequence, making them quantitative variables.\n",
        "\n",
        "3. `Period`:\n",
        "   - **Type:** Qualitative (Nominal)\n",
        "   - **Reasoning:** The period column categorizes the data based on the time period over which it was collected. It doesn't represent a quantity or numerical value but rather different categories (e.g., \"Annual\"). Hence, it's a qualitative variable.\n",
        "\n",
        "4. `Avg hrs per day sleeping`:\n",
        "   - **Type:** Quantitative\n",
        "   - **Reasoning:** This column represents the average number of hours per day spent sleeping, which is a continuous numerical measurement. It quantifies a characteristic of interest and can take on a range of numerical values.\n",
        "\n",
        "5. `Standard Error`:\n",
        "   - **Type:** Quantitative\n",
        "   - **Reasoning:** The standard error column provides a measure of the variability or precision associated with the average hours of sleep. It represents a numerical value that quantifies the degree of uncertainty in the estimate.\n",
        "\n",
        "6. `Type of Days`:\n",
        "   - **Type:** Qualitative (Nominal)\n",
        "   - **Reasoning:** This column categorizes the data based on the type of days (e.g., \"All days\"). It represents different categories or types rather than numerical quantities, making it a qualitative variable.\n",
        "\n",
        "7. `Age Group`:\n",
        "   - **Type:** Qualitative (Nominal)\n",
        "   - **Reasoning:** Age group categorizes individuals into distinct groups based on their age range (e.g., \"15 years and over\"). It represents different categories or groups rather than numerical quantities.\n",
        "\n",
        "8. `Activity`:\n",
        "   - **Type:** Qualitative (Nominal)\n",
        "   - **Reasoning:** This column describes the activity being measured (e.g., \"Sleeping\"). It categorizes data into different types or categories rather than numerical quantities.\n",
        "\n",
        "9. `Sex`:\n",
        "   - **Type:** Qualitative (Nominal)\n",
        "   - **Reasoning:** The sex column categorizes individuals based on their gender (e.g., \"Both\"). It represents distinct categories rather than numerical quantities.\n",
        "\n",
        "By categorizing each column in this way, we can understand the nature of the variables in the dataset and determine appropriate analytical techniques for further exploration and interpretation."
      ],
      "metadata": {
        "id": "3UFnLpYdAwXO"
      }
    },
    {
      "cell_type": "code",
      "source": [
        "!kaggle datasets download -d uciml/iris"
      ],
      "metadata": {
        "colab": {
          "base_uri": "https://localhost:8080/"
        },
        "id": "0xt21Ty5BM7t",
        "outputId": "0c4a61a7-8120-4f4e-8417-187834936af8"
      },
      "execution_count": 32,
      "outputs": [
        {
          "output_type": "stream",
          "name": "stdout",
          "text": [
            "iris.zip: Skipping, found more recently modified local copy (use --force to force download)\n"
          ]
        }
      ]
    },
    {
      "cell_type": "code",
      "source": [
        "train_data = pd.read_csv('iris.csv')"
      ],
      "metadata": {
        "id": "AiE5ZARmMSac"
      },
      "execution_count": 33,
      "outputs": []
    },
    {
      "cell_type": "code",
      "source": [
        "print(train_data.head())"
      ],
      "metadata": {
        "colab": {
          "base_uri": "https://localhost:8080/"
        },
        "id": "gbu415LeNKwq",
        "outputId": "1a4bcabd-60dc-4e77-d9c8-0031bc2d1829"
      },
      "execution_count": 34,
      "outputs": [
        {
          "output_type": "stream",
          "name": "stdout",
          "text": [
            "   sepal_length  sepal_width  petal_length  petal_width species\n",
            "0           5.1          3.5           1.4          0.2  setosa\n",
            "1           4.9          3.0           1.4          0.2  setosa\n",
            "2           4.7          3.2           1.3          0.2  setosa\n",
            "3           4.6          3.1           1.5          0.2  setosa\n",
            "4           5.0          3.6           1.4          0.2  setosa\n"
          ]
        }
      ]
    },
    {
      "cell_type": "markdown",
      "source": [
        "**Quantitative:**\n",
        "\n",
        "1. sepal_length\n",
        "2. sepal_width\n",
        "3. petal_length\n",
        "4. petal_width\n",
        "\n",
        "**Qualitative:**\n",
        "5. species"
      ],
      "metadata": {
        "id": "2Dtc1du-Nm-R"
      }
    },
    {
      "cell_type": "code",
      "source": [
        "import matplotlib.pyplot as plt"
      ],
      "metadata": {
        "id": "DeVzAmdNNo-z"
      },
      "execution_count": 38,
      "outputs": []
    },
    {
      "cell_type": "code",
      "source": [
        "data = pd.read_csv('iris.csv')"
      ],
      "metadata": {
        "id": "fAOYZ1EgPlgm"
      },
      "execution_count": 40,
      "outputs": []
    },
    {
      "cell_type": "code",
      "source": [
        "quantitative_column = 'sepal_length'\n",
        "mean = data[quantitative_column].mean()\n",
        "median = data[quantitative_column].median()\n",
        "mode = data[quantitative_column].mode()[0]"
      ],
      "metadata": {
        "id": "GhivKWzrPwLH"
      },
      "execution_count": 42,
      "outputs": []
    },
    {
      "cell_type": "code",
      "source": [
        "print(\"Mean:\", mean)\n",
        "print(\"Median:\", median)\n",
        "print(\"Mode:\", mode)"
      ],
      "metadata": {
        "colab": {
          "base_uri": "https://localhost:8080/"
        },
        "id": "TTJqwqxzRB3x",
        "outputId": "79114379-26e0-4b66-83b0-0944bb585a81"
      },
      "execution_count": 43,
      "outputs": [
        {
          "output_type": "stream",
          "name": "stdout",
          "text": [
            "Mean: 5.843333333333334\n",
            "Median: 5.8\n",
            "Mode: 5.0\n"
          ]
        }
      ]
    },
    {
      "cell_type": "code",
      "source": [
        "plt.hist(data[quantitative_column], bins=10, color='skyblue')\n",
        "plt.xlabel('Sepal Length')\n",
        "plt.ylabel('Frequency')\n",
        "plt.title('Histogram of Sepal Length')\n",
        "plt.show()"
      ],
      "metadata": {
        "colab": {
          "base_uri": "https://localhost:8080/",
          "height": 472
        },
        "id": "7p-biD4KRZUQ",
        "outputId": "5e012286-6e25-4879-da11-6d2b5fdc96c4"
      },
      "execution_count": 44,
      "outputs": [
        {
          "output_type": "display_data",
          "data": {
            "text/plain": [
              "<Figure size 640x480 with 1 Axes>"
            ],
            "image/png": "[encoded data removed]"
          },
          "metadata": {}
        }
      ]
    },
    {
      "cell_type": "markdown",
      "source": [
        " For the database 'Bsic Observation Skills in Data Analysis' the Year, Avg hrs per day sleeping, Type of Days, Age Group, and Sex columns could be particularly interesting for conducting trend analysis, group comparisons, and exploring correlations related to sleep duration. These analyses could provide valuable insights into sleep patterns and factors influencing sleep health"
      ],
      "metadata": {
        "id": "44i1VNIhTh-8"
      }
    },
    {
      "cell_type": "code",
      "source": [],
      "metadata": {
        "id": "yp89UUvnTlPa"
      },
      "execution_count": null,
      "outputs": []
    }
  ]
}