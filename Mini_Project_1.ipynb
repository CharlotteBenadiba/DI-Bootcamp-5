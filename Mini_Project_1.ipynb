{
  "nbformat": 4,
  "nbformat_minor": 0,
  "metadata": {
    "colab": {
      "provenance": [],
      "authorship_tag": "ABX9TyPBcHUc0BczUUBEq6Q1eZz4",
      "include_colab_link": true
    },
    "kernelspec": {
      "name": "python3",
      "display_name": "Python 3"
    },
    "language_info": {
      "name": "python"
    }
  },
  "cells": [
    {
      "cell_type": "markdown",
      "metadata": {
        "id": "view-in-github",
        "colab_type": "text"
      },
      "source": [
        "<a href=\"https://colab.research.google.com/github/EvgeniaKantor/DI-Bootcamp/blob/main/Mini_Project_1.ipynb\" target=\"_parent\"><img src=\"https://colab.research.google.com/assets/colab-badge.svg\" alt=\"Open In Colab\"/></a>"
      ]
    },
    {
      "cell_type": "code",
      "execution_count": 1,
      "metadata": {
        "colab": {
          "base_uri": "https://localhost:8080/",
          "height": 125
        },
        "id": "Ch6oEz8NJH9K",
        "outputId": "1febfc60-ef58-4a68-eb9d-87ce29f47838"
      },
      "outputs": [
        {
          "output_type": "display_data",
          "data": {
            "text/plain": [
              "<IPython.core.display.HTML object>"
            ],
            "text/html": [
              "\n",
              "     <input type=\"file\" id=\"files-094dc0a0-2524-48ed-9786-673a84da0d22\" name=\"files[]\" multiple disabled\n",
              "        style=\"border:none\" />\n",
              "     <output id=\"result-094dc0a0-2524-48ed-9786-673a84da0d22\">\n",
              "      Upload widget is only available when the cell has been executed in the\n",
              "      current browser session. Please rerun this cell to enable.\n",
              "      </output>\n",
              "      <script>// Copyright 2017 Google LLC\n",
              "//\n",
              "// Licensed under the Apache License, Version 2.0 (the \"License\");\n",
              "// you may not use this file except in compliance with the License.\n",
              "// You may obtain a copy of the License at\n",
              "//\n",
              "//      http://www.apache.org/licenses/LICENSE-2.0\n",
              "//\n",
              "// Unless required by applicable law or agreed to in writing, software\n",
              "// distributed under the License is distributed on an \"AS IS\" BASIS,\n",
              "// WITHOUT WARRANTIES OR CONDITIONS OF ANY KIND, either express or implied.\n",
              "// See the License for the specific language governing permissions and\n",
              "// limitations under the License.\n",
              "\n",
              "/**\n",
              " * @fileoverview Helpers for google.colab Python module.\n",
              " */\n",
              "(function(scope) {\n",
              "function span(text, styleAttributes = {}) {\n",
              "  const element = document.createElement('span');\n",
              "  element.textContent = text;\n",
              "  for (const key of Object.keys(styleAttributes)) {\n",
              "    element.style[key] = styleAttributes[key];\n",
              "  }\n",
              "  return element;\n",
              "}\n",
              "\n",
              "// Max number of bytes which will be uploaded at a time.\n",
              "const MAX_PAYLOAD_SIZE = 100 * 1024;\n",
              "\n",
              "function _uploadFiles(inputId, outputId) {\n",
              "  const steps = uploadFilesStep(inputId, outputId);\n",
              "  const outputElement = document.getElementById(outputId);\n",
              "  // Cache steps on the outputElement to make it available for the next call\n",
              "  // to uploadFilesContinue from Python.\n",
              "  outputElement.steps = steps;\n",
              "\n",
              "  return _uploadFilesContinue(outputId);\n",
              "}\n",
              "\n",
              "// This is roughly an async generator (not supported in the browser yet),\n",
              "// where there are multiple asynchronous steps and the Python side is going\n",
              "// to poll for completion of each step.\n",
              "// This uses a Promise to block the python side on completion of each step,\n",
              "// then passes the result of the previous step as the input to the next step.\n",
              "function _uploadFilesContinue(outputId) {\n",
              "  const outputElement = document.getElementById(outputId);\n",
              "  const steps = outputElement.steps;\n",
              "\n",
              "  const next = steps.next(outputElement.lastPromiseValue);\n",
              "  return Promise.resolve(next.value.promise).then((value) => {\n",
              "    // Cache the last promise value to make it available to the next\n",
              "    // step of the generator.\n",
              "    outputElement.lastPromiseValue = value;\n",
              "    return next.value.response;\n",
              "  });\n",
              "}\n",
              "\n",
              "/**\n",
              " * Generator function which is called between each async step of the upload\n",
              " * process.\n",
              " * @param {string} inputId Element ID of the input file picker element.\n",
              " * @param {string} outputId Element ID of the output display.\n",
              " * @return {!Iterable<!Object>} Iterable of next steps.\n",
              " */\n",
              "function* uploadFilesStep(inputId, outputId) {\n",
              "  const inputElement = document.getElementById(inputId);\n",
              "  inputElement.disabled = false;\n",
              "\n",
              "  const outputElement = document.getElementById(outputId);\n",
              "  outputElement.innerHTML = '';\n",
              "\n",
              "  const pickedPromise = new Promise((resolve) => {\n",
              "    inputElement.addEventListener('change', (e) => {\n",
              "      resolve(e.target.files);\n",
              "    });\n",
              "  });\n",
              "\n",
              "  const cancel = document.createElement('button');\n",
              "  inputElement.parentElement.appendChild(cancel);\n",
              "  cancel.textContent = 'Cancel upload';\n",
              "  const cancelPromise = new Promise((resolve) => {\n",
              "    cancel.onclick = () => {\n",
              "      resolve(null);\n",
              "    };\n",
              "  });\n",
              "\n",
              "  // Wait for the user to pick the files.\n",
              "  const files = yield {\n",
              "    promise: Promise.race([pickedPromise, cancelPromise]),\n",
              "    response: {\n",
              "      action: 'starting',\n",
              "    }\n",
              "  };\n",
              "\n",
              "  cancel.remove();\n",
              "\n",
              "  // Disable the input element since further picks are not allowed.\n",
              "  inputElement.disabled = true;\n",
              "\n",
              "  if (!files) {\n",
              "    return {\n",
              "      response: {\n",
              "        action: 'complete',\n",
              "      }\n",
              "    };\n",
              "  }\n",
              "\n",
              "  for (const file of files) {\n",
              "    const li = document.createElement('li');\n",
              "    li.append(span(file.name, {fontWeight: 'bold'}));\n",
              "    li.append(span(\n",
              "        `(${file.type || 'n/a'}) - ${file.size} bytes, ` +\n",
              "        `last modified: ${\n",
              "            file.lastModifiedDate ? file.lastModifiedDate.toLocaleDateString() :\n",
              "                                    'n/a'} - `));\n",
              "    const percent = span('0% done');\n",
              "    li.appendChild(percent);\n",
              "\n",
              "    outputElement.appendChild(li);\n",
              "\n",
              "    const fileDataPromise = new Promise((resolve) => {\n",
              "      const reader = new FileReader();\n",
              "      reader.onload = (e) => {\n",
              "        resolve(e.target.result);\n",
              "      };\n",
              "      reader.readAsArrayBuffer(file);\n",
              "    });\n",
              "    // Wait for the data to be ready.\n",
              "    let fileData = yield {\n",
              "      promise: fileDataPromise,\n",
              "      response: {\n",
              "        action: 'continue',\n",
              "      }\n",
              "    };\n",
              "\n",
              "    // Use a chunked sending to avoid message size limits. See b/62115660.\n",
              "    let position = 0;\n",
              "    do {\n",
              "      const length = Math.min(fileData.byteLength - position, MAX_PAYLOAD_SIZE);\n",
              "      const chunk = new Uint8Array(fileData, position, length);\n",
              "      position += length;\n",
              "\n",
              "      const base64 = btoa(String.fromCharCode.apply(null, chunk));\n",
              "      yield {\n",
              "        response: {\n",
              "          action: 'append',\n",
              "          file: file.name,\n",
              "          data: base64,\n",
              "        },\n",
              "      };\n",
              "\n",
              "      let percentDone = fileData.byteLength === 0 ?\n",
              "          100 :\n",
              "          Math.round((position / fileData.byteLength) * 100);\n",
              "      percent.textContent = `${percentDone}% done`;\n",
              "\n",
              "    } while (position < fileData.byteLength);\n",
              "  }\n",
              "\n",
              "  // All done.\n",
              "  yield {\n",
              "    response: {\n",
              "      action: 'complete',\n",
              "    }\n",
              "  };\n",
              "}\n",
              "\n",
              "scope.google = scope.google || {};\n",
              "scope.google.colab = scope.google.colab || {};\n",
              "scope.google.colab._files = {\n",
              "  _uploadFiles,\n",
              "  _uploadFilesContinue,\n",
              "};\n",
              "})(self);\n",
              "</script> "
            ]
          },
          "metadata": {}
        },
        {
          "output_type": "stream",
          "name": "stdout",
          "text": [
            "Saving kaggle.json to kaggle.json\n",
            "Downloading mental-health-in-tech-survey.zip to /content\n",
            "  0% 0.00/48.8k [00:00<?, ?B/s]\n",
            "100% 48.8k/48.8k [00:00<00:00, 50.5MB/s]\n"
          ]
        }
      ],
      "source": [
        "from google.colab import files\n",
        "uploaded = files.upload()\n",
        "# Make directory named kaggle and copy kaggle.json file there\n",
        "!mkdir ~/.kaggle\n",
        "!cp kaggle.json ~/.kaggle/\n",
        "\n",
        "# Change the permissions of the file\n",
        "!chmod 600 ~/.kaggle/kaggle.json\n",
        "\n",
        "!kaggle datasets download -d osmi/mental-health-in-tech-survey"
      ]
    },
    {
      "cell_type": "code",
      "source": [
        "!unzip mental-health-in-tech-survey.zip"
      ],
      "metadata": {
        "colab": {
          "base_uri": "https://localhost:8080/"
        },
        "id": "36_V5nfRJlQ_",
        "outputId": "6d9cb73c-1af1-4b75-a541-6f831ff7d600"
      },
      "execution_count": 2,
      "outputs": [
        {
          "output_type": "stream",
          "name": "stdout",
          "text": [
            "Archive:  mental-health-in-tech-survey.zip\n",
            "  inflating: survey.csv              \n"
          ]
        }
      ]
    },
    {
      "cell_type": "code",
      "source": [
        "import pandas as pd"
      ],
      "metadata": {
        "id": "pqa4pOSFJtBe"
      },
      "execution_count": 3,
      "outputs": []
    },
    {
      "cell_type": "code",
      "source": [
        "# Step 1: Load the Mental Health dataset\n",
        "mental_health_data = pd.read_csv('survey.csv')"
      ],
      "metadata": {
        "id": "bbGTseovLG7I"
      },
      "execution_count": 4,
      "outputs": []
    },
    {
      "cell_type": "code",
      "source": [
        "# Step 2: Explore the data\n",
        "print(mental_health_data.columns)\n",
        "print(mental_health_data['mental_health_interview'])"
      ],
      "metadata": {
        "colab": {
          "base_uri": "https://localhost:8080/"
        },
        "id": "_Llt8yOULXQ3",
        "outputId": "61d98dc1-93e2-425d-dd53-2521cea13a36"
      },
      "execution_count": 22,
      "outputs": [
        {
          "output_type": "stream",
          "name": "stdout",
          "text": [
            "Index(['Timestamp', 'Age', 'Gender', 'Country', 'state', 'self_employed',\n",
            "       'family_history', 'treatment', 'work_interfere', 'no_employees',\n",
            "       'remote_work', 'tech_company', 'benefits', 'care_options',\n",
            "       'wellness_program', 'seek_help', 'anonymity', 'leave',\n",
            "       'mental_health_consequence', 'phys_health_consequence', 'coworkers',\n",
            "       'supervisor', 'mental_health_interview', 'phys_health_interview',\n",
            "       'mental_vs_physical', 'obs_consequence', 'comments'],\n",
            "      dtype='object')\n"
          ]
        },
        {
          "output_type": "execute_result",
          "data": {
            "text/plain": [
              "0          No\n",
              "1          No\n",
              "2         Yes\n",
              "3       Maybe\n",
              "4         Yes\n",
              "        ...  \n",
              "1254       No\n",
              "1255       No\n",
              "1256       No\n",
              "1257       No\n",
              "1258       No\n",
              "Name: mental_health_interview, Length: 1259, dtype: object"
            ]
          },
          "metadata": {},
          "execution_count": 22
        }
      ]
    },
    {
      "cell_type": "code",
      "source": [
        "print(mental_health_data.head())"
      ],
      "metadata": {
        "colab": {
          "base_uri": "https://localhost:8080/"
        },
        "id": "Zxe-JPrQLp7u",
        "outputId": "95e503d9-03b5-46ca-e1e9-0dbe37fa7f54"
      },
      "execution_count": 6,
      "outputs": [
        {
          "output_type": "stream",
          "name": "stdout",
          "text": [
            "             Timestamp  Age  Gender         Country state self_employed  \\\n",
            "0  2014-08-27 11:29:31   37  Female   United States    IL           NaN   \n",
            "1  2014-08-27 11:29:37   44       M   United States    IN           NaN   \n",
            "2  2014-08-27 11:29:44   32    Male          Canada   NaN           NaN   \n",
            "3  2014-08-27 11:29:46   31    Male  United Kingdom   NaN           NaN   \n",
            "4  2014-08-27 11:30:22   31    Male   United States    TX           NaN   \n",
            "\n",
            "  family_history treatment work_interfere    no_employees  ...  \\\n",
            "0             No       Yes          Often            6-25  ...   \n",
            "1             No        No         Rarely  More than 1000  ...   \n",
            "2             No        No         Rarely            6-25  ...   \n",
            "3            Yes       Yes          Often          26-100  ...   \n",
            "4             No        No          Never         100-500  ...   \n",
            "\n",
            "                leave mental_health_consequence phys_health_consequence  \\\n",
            "0       Somewhat easy                        No                      No   \n",
            "1          Don't know                     Maybe                      No   \n",
            "2  Somewhat difficult                        No                      No   \n",
            "3  Somewhat difficult                       Yes                     Yes   \n",
            "4          Don't know                        No                      No   \n",
            "\n",
            "      coworkers supervisor mental_health_interview phys_health_interview  \\\n",
            "0  Some of them        Yes                      No                 Maybe   \n",
            "1            No         No                      No                    No   \n",
            "2           Yes        Yes                     Yes                   Yes   \n",
            "3  Some of them         No                   Maybe                 Maybe   \n",
            "4  Some of them        Yes                     Yes                   Yes   \n",
            "\n",
            "  mental_vs_physical obs_consequence comments  \n",
            "0                Yes              No      NaN  \n",
            "1         Don't know              No      NaN  \n",
            "2                 No              No      NaN  \n",
            "3                 No             Yes      NaN  \n",
            "4         Don't know              No      NaN  \n",
            "\n",
            "[5 rows x 27 columns]\n"
          ]
        }
      ]
    },
    {
      "cell_type": "code",
      "source": [
        "# Check for missing values\n",
        "missing_values = mental_health_data.isnull().sum()\n",
        "print(\"Missing Values:\\n\")\n",
        "print(missing_values)"
      ],
      "metadata": {
        "colab": {
          "base_uri": "https://localhost:8080/"
        },
        "id": "aFJw5wZGmADR",
        "outputId": "9009cf45-0fe2-49fa-91b7-c2bbba05a411"
      },
      "execution_count": 41,
      "outputs": [
        {
          "output_type": "stream",
          "name": "stdout",
          "text": [
            "Missing Values:\n",
            "\n",
            "Timestamp                       0\n",
            "Age                             0\n",
            "Gender                          0\n",
            "Country                         0\n",
            "state                         515\n",
            "self_employed                  18\n",
            "family_history                  0\n",
            "treatment                       0\n",
            "work_interfere                264\n",
            "no_employees                    0\n",
            "remote_work                     0\n",
            "tech_company                    0\n",
            "benefits                        0\n",
            "care_options                    0\n",
            "wellness_program                0\n",
            "seek_help                       0\n",
            "anonymity                       0\n",
            "leave                           0\n",
            "mental_health_consequence       0\n",
            "phys_health_consequence         0\n",
            "coworkers                       0\n",
            "supervisor                      0\n",
            "mental_health_interview         0\n",
            "phys_health_interview           0\n",
            "mental_vs_physical              0\n",
            "obs_consequence                 0\n",
            "comments                     1095\n",
            "dtype: int64\n"
          ]
        }
      ]
    },
    {
      "cell_type": "code",
      "source": [
        "# Drop the 'comments' column\n",
        "mental_health_data.drop(columns=['comments'], inplace=True)\n"
      ],
      "metadata": {
        "id": "1iz4O37On-3n"
      },
      "execution_count": null,
      "outputs": []
    },
    {
      "cell_type": "code",
      "source": [
        "mental_health_data.drop(columns=['self_employed'], inplace=True)"
      ],
      "metadata": {
        "id": "iiZsmySOpWKS"
      },
      "execution_count": 49,
      "outputs": []
    },
    {
      "cell_type": "code",
      "source": [
        "\n",
        "mental_health_data['state'].fillna(method='ffill', inplace=True)  # Forward fill missing values\n"
      ],
      "metadata": {
        "id": "c22umR5VoR6w"
      },
      "execution_count": 50,
      "outputs": []
    },
    {
      "cell_type": "code",
      "source": [
        "# Check for missing values\n",
        "missing_values = mental_health_data.isnull().sum()\n",
        "print(\"Missing Values:\\n\")\n",
        "print(missing_values)"
      ],
      "metadata": {
        "colab": {
          "base_uri": "https://localhost:8080/"
        },
        "id": "x-_CuyWrozOd",
        "outputId": "4970e428-59c6-4ff2-f3a3-be866077beaa"
      },
      "execution_count": 51,
      "outputs": [
        {
          "output_type": "stream",
          "name": "stdout",
          "text": [
            "Missing Values:\n",
            "\n",
            "Timestamp                      0\n",
            "Age                            0\n",
            "Gender                         0\n",
            "Country                        0\n",
            "state                          0\n",
            "family_history                 0\n",
            "treatment                      0\n",
            "work_interfere               264\n",
            "no_employees                   0\n",
            "remote_work                    0\n",
            "tech_company                   0\n",
            "benefits                       0\n",
            "care_options                   0\n",
            "wellness_program               0\n",
            "seek_help                      0\n",
            "anonymity                      0\n",
            "leave                          0\n",
            "mental_health_consequence      0\n",
            "phys_health_consequence        0\n",
            "coworkers                      0\n",
            "supervisor                     0\n",
            "mental_health_interview        0\n",
            "phys_health_interview          0\n",
            "mental_vs_physical             0\n",
            "obs_consequence                0\n",
            "dtype: int64\n"
          ]
        }
      ]
    },
    {
      "cell_type": "code",
      "source": [
        "# Remove rows with missing values in the 'work_interfere' column\n",
        "mental_health_data.dropna(subset=['work_interfere'], inplace=True)"
      ],
      "metadata": {
        "id": "27hABlgqpt9U"
      },
      "execution_count": 52,
      "outputs": []
    },
    {
      "cell_type": "code",
      "source": [
        "# Check for missing values\n",
        "missing_values = mental_health_data.isnull().sum()\n",
        "print(\"Missing Values:\\n\")\n",
        "print(missing_values)"
      ],
      "metadata": {
        "colab": {
          "base_uri": "https://localhost:8080/"
        },
        "id": "hF91UJ6bpx08",
        "outputId": "6532d3a9-c15e-427e-cd4f-a8471d09cc5f"
      },
      "execution_count": 53,
      "outputs": [
        {
          "output_type": "stream",
          "name": "stdout",
          "text": [
            "Missing Values:\n",
            "\n",
            "Timestamp                    0\n",
            "Age                          0\n",
            "Gender                       0\n",
            "Country                      0\n",
            "state                        0\n",
            "family_history               0\n",
            "treatment                    0\n",
            "work_interfere               0\n",
            "no_employees                 0\n",
            "remote_work                  0\n",
            "tech_company                 0\n",
            "benefits                     0\n",
            "care_options                 0\n",
            "wellness_program             0\n",
            "seek_help                    0\n",
            "anonymity                    0\n",
            "leave                        0\n",
            "mental_health_consequence    0\n",
            "phys_health_consequence      0\n",
            "coworkers                    0\n",
            "supervisor                   0\n",
            "mental_health_interview      0\n",
            "phys_health_interview        0\n",
            "mental_vs_physical           0\n",
            "obs_consequence              0\n",
            "dtype: int64\n"
          ]
        }
      ]
    },
    {
      "cell_type": "code",
      "source": [
        "# Step 3: Analyzing Mental Health Conditions by Age Groups\n",
        "# Group data by 'Age' and count the occurrences of mental health conditions\n",
        "# Remove rows with inappropriate ages (negative or under 18)\n",
        "\n",
        "cleaned_mental_health_data = mental_health_data[(mental_health_data['Age'] >= 18) & (mental_health_data['Age'] <= 75)]\n",
        "mental_health_by_age = cleaned_mental_health_data.groupby('Age')['mental_health_consequence'].value_counts(normalize=True).unstack()"
      ],
      "metadata": {
        "id": "HTNorgOrMK5J"
      },
      "execution_count": 54,
      "outputs": []
    },
    {
      "cell_type": "code",
      "source": [
        "print(\"\\nDistribution of Mental Health Conditions by Age Groups:\\n\")\n",
        "print(mental_health_by_age)"
      ],
      "metadata": {
        "colab": {
          "base_uri": "https://localhost:8080/"
        },
        "id": "yV-IGYhcMoM2",
        "outputId": "31b42073-c53a-41ff-df2c-426e4ef0aa69"
      },
      "execution_count": 55,
      "outputs": [
        {
          "output_type": "stream",
          "name": "stdout",
          "text": [
            "\n",
            "Distribution of Mental Health Conditions by Age Groups:\n",
            "\n",
            "mental_health_consequence     Maybe        No       Yes\n",
            "Age                                                    \n",
            "18                         0.200000  0.400000  0.400000\n",
            "19                         0.333333  0.500000  0.166667\n",
            "20                              NaN  0.600000  0.400000\n",
            "21                         0.357143  0.285714  0.357143\n",
            "22                         0.333333  0.400000  0.266667\n",
            "23                         0.390244  0.463415  0.146341\n",
            "24                         0.437500  0.375000  0.187500\n",
            "25                         0.391304  0.326087  0.282609\n",
            "26                         0.516667  0.300000  0.183333\n",
            "27                         0.365385  0.346154  0.288462\n",
            "28                         0.370370  0.296296  0.333333\n",
            "29                         0.435484  0.322581  0.241935\n",
            "30                         0.307692  0.480769  0.211538\n",
            "31                         0.320000  0.480000  0.200000\n",
            "32                         0.382353  0.382353  0.235294\n",
            "33                         0.307692  0.403846  0.288462\n",
            "34                         0.452830  0.320755  0.226415\n",
            "35                         0.355556  0.377778  0.266667\n",
            "36                         0.393939  0.424242  0.181818\n",
            "37                         0.323529  0.264706  0.411765\n",
            "38                         0.419355  0.322581  0.258065\n",
            "39                         0.269231  0.346154  0.384615\n",
            "40                         0.379310  0.275862  0.344828\n",
            "41                         0.611111  0.333333  0.055556\n",
            "42                         0.500000  0.166667  0.333333\n",
            "43                         0.350000  0.300000  0.350000\n",
            "44                         0.666667  0.111111  0.222222\n",
            "45                         0.272727  0.454545  0.272727\n",
            "46                         0.363636  0.363636  0.272727\n",
            "47                              NaN  1.000000       NaN\n",
            "48                         0.600000       NaN  0.400000\n",
            "49                         0.250000  0.250000  0.500000\n",
            "50                         0.250000  0.500000  0.250000\n",
            "51                              NaN  0.500000  0.500000\n",
            "53                         1.000000       NaN       NaN\n",
            "54                              NaN  1.000000       NaN\n",
            "55                              NaN  0.333333  0.666667\n",
            "56                         0.250000  0.500000  0.250000\n",
            "57                         0.666667       NaN  0.333333\n",
            "58                         1.000000       NaN       NaN\n",
            "60                         1.000000       NaN       NaN\n",
            "61                              NaN       NaN  1.000000\n",
            "62                         1.000000       NaN       NaN\n",
            "72                         1.000000       NaN       NaN\n"
          ]
        }
      ]
    },
    {
      "cell_type": "code",
      "source": [
        "# Remove rows with NaN values\n",
        "mental_health_by_age.dropna(inplace=True)\n",
        "\n",
        "# Print the updated DataFrame to verify the removal of NaN values\n",
        "print(mental_health_by_age)"
      ],
      "metadata": {
        "colab": {
          "base_uri": "https://localhost:8080/"
        },
        "id": "PRLVm75gqZOm",
        "outputId": "9fd1d107-fae5-499f-b49d-bb939b65b4fe"
      },
      "execution_count": 57,
      "outputs": [
        {
          "output_type": "stream",
          "name": "stdout",
          "text": [
            "mental_health_consequence     Maybe        No       Yes\n",
            "Age                                                    \n",
            "18                         0.200000  0.400000  0.400000\n",
            "19                         0.333333  0.500000  0.166667\n",
            "21                         0.357143  0.285714  0.357143\n",
            "22                         0.333333  0.400000  0.266667\n",
            "23                         0.390244  0.463415  0.146341\n",
            "24                         0.437500  0.375000  0.187500\n",
            "25                         0.391304  0.326087  0.282609\n",
            "26                         0.516667  0.300000  0.183333\n",
            "27                         0.365385  0.346154  0.288462\n",
            "28                         0.370370  0.296296  0.333333\n",
            "29                         0.435484  0.322581  0.241935\n",
            "30                         0.307692  0.480769  0.211538\n",
            "31                         0.320000  0.480000  0.200000\n",
            "32                         0.382353  0.382353  0.235294\n",
            "33                         0.307692  0.403846  0.288462\n",
            "34                         0.452830  0.320755  0.226415\n",
            "35                         0.355556  0.377778  0.266667\n",
            "36                         0.393939  0.424242  0.181818\n",
            "37                         0.323529  0.264706  0.411765\n",
            "38                         0.419355  0.322581  0.258065\n",
            "39                         0.269231  0.346154  0.384615\n",
            "40                         0.379310  0.275862  0.344828\n",
            "41                         0.611111  0.333333  0.055556\n",
            "42                         0.500000  0.166667  0.333333\n",
            "43                         0.350000  0.300000  0.350000\n",
            "44                         0.666667  0.111111  0.222222\n",
            "45                         0.272727  0.454545  0.272727\n",
            "46                         0.363636  0.363636  0.272727\n",
            "49                         0.250000  0.250000  0.500000\n",
            "50                         0.250000  0.500000  0.250000\n",
            "56                         0.250000  0.500000  0.250000\n"
          ]
        }
      ]
    },
    {
      "cell_type": "code",
      "source": [
        "print(mental_health_data['Gender'])"
      ],
      "metadata": {
        "colab": {
          "base_uri": "https://localhost:8080/"
        },
        "id": "aBPKpz9tq28L",
        "outputId": "172283d1-a681-4306-f99b-f9738a0ebbc6"
      },
      "execution_count": 61,
      "outputs": [
        {
          "output_type": "stream",
          "name": "stdout",
          "text": [
            "0       female\n",
            "1         male\n",
            "2         male\n",
            "3         male\n",
            "4         male\n",
            "         ...  \n",
            "1252      male\n",
            "1253      male\n",
            "1255      male\n",
            "1256      male\n",
            "1258      male\n",
            "Name: Gender, Length: 995, dtype: object\n"
          ]
        }
      ]
    },
    {
      "cell_type": "code",
      "source": [
        "# Count the number of unique values in a column\n",
        "num_unique_values = mental_health_data['Gender'].nunique()\n",
        "unique_values = mental_health_data['Gender'].unique()\n",
        "# Print the number of unique values\n",
        "print(\"Number of unique values:\", num_unique_values)\n",
        "print(\"Unique values:\", unique_values)\n"
      ],
      "metadata": {
        "colab": {
          "base_uri": "https://localhost:8080/"
        },
        "id": "I2tjEc7RrbIR",
        "outputId": "37d85b5b-049a-4b1d-94c7-6b91f166646d"
      },
      "execution_count": 69,
      "outputs": [
        {
          "output_type": "stream",
          "name": "stdout",
          "text": [
            "Number of unique values: 6\n",
            "Unique values: ['female' 'male' 'non-binary' 'nah' 'other' 'femal']\n"
          ]
        }
      ]
    },
    {
      "cell_type": "code",
      "source": [
        "# Calculate the frequency of mental health issues by gender\n",
        "# Consolidate similar gender categories\n",
        "mental_health_data['Gender'] = mental_health_data['Gender'].str.lower()  # Convert to lowercase for consistency\n",
        "mental_health_data['Gender'].replace({\n",
        "    'male ': 'male',\n",
        "    'male leaning androgynous' : 'male',\n",
        "    'femal' : 'female'\n",
        "}, inplace=True)\n",
        "# Drop specific values from the 'Gender' column\n",
        "mental_health_data.drop(mental_health_data[(mental_health_data['Gender'] == 'non-binary') |\n",
        "                                           (mental_health_data['Gender'] == 'nah') |\n",
        "                                           (mental_health_data['Gender'] == 'other')].index, inplace=True)\n",
        "mental_health_by_gender = mental_health_data.groupby('Gender')['treatment'].value_counts(normalize=True).unstack()"
      ],
      "metadata": {
        "id": "7nJ9gJpKiUlx"
      },
      "execution_count": 73,
      "outputs": []
    },
    {
      "cell_type": "code",
      "source": [
        "print(\"Frequency of Mental Health Issues by Gender:\\n\")\n",
        "print(mental_health_by_gender)"
      ],
      "metadata": {
        "colab": {
          "base_uri": "https://localhost:8080/"
        },
        "id": "kgdV0J8JinYU",
        "outputId": "4749026a-2fc9-4f14-dc11-096c0ed5dbd1"
      },
      "execution_count": 76,
      "outputs": [
        {
          "output_type": "stream",
          "name": "stdout",
          "text": [
            "Frequency of Mental Health Issues by Gender:\n",
            "\n",
            "treatment        No       Yes\n",
            "Gender                       \n",
            "female     0.201878  0.798122\n",
            "male       0.415144  0.584856\n"
          ]
        }
      ]
    },
    {
      "cell_type": "code",
      "source": [
        "print(mental_health_data)"
      ],
      "metadata": {
        "colab": {
          "base_uri": "https://localhost:8080/"
        },
        "id": "lUndmLqot_1x",
        "outputId": "da8c48da-46b0-494f-f476-802632066491"
      },
      "execution_count": 77,
      "outputs": [
        {
          "output_type": "stream",
          "name": "stdout",
          "text": [
            "                Timestamp  Age  Gender         Country state family_history  \\\n",
            "0     2014-08-27 11:29:31   37  female   United States    IL             No   \n",
            "1     2014-08-27 11:29:37   44    male   United States    IN             No   \n",
            "2     2014-08-27 11:29:44   32    male          Canada    IN             No   \n",
            "3     2014-08-27 11:29:46   31    male  United Kingdom    IN            Yes   \n",
            "4     2014-08-27 11:30:22   31    male   United States    TX             No   \n",
            "...                   ...  ...     ...             ...   ...            ...   \n",
            "1252  2015-08-20 16:52:09   29    male   United States    NC            Yes   \n",
            "1253  2015-08-25 19:59:38   36    male   United States    UT            Yes   \n",
            "1255  2015-09-26 01:07:35   32    male   United States    IL            Yes   \n",
            "1256  2015-11-07 12:36:58   34    male   United States    CA            Yes   \n",
            "1258  2016-02-01 23:04:31   25    male   United States    IL            Yes   \n",
            "\n",
            "     treatment work_interfere    no_employees remote_work  ...   anonymity  \\\n",
            "0          Yes          Often            6-25          No  ...         Yes   \n",
            "1           No         Rarely  More than 1000          No  ...  Don't know   \n",
            "2           No         Rarely            6-25          No  ...  Don't know   \n",
            "3          Yes          Often          26-100          No  ...          No   \n",
            "4           No          Never         100-500         Yes  ...  Don't know   \n",
            "...        ...            ...             ...         ...  ...         ...   \n",
            "1252       Yes      Sometimes         100-500         Yes  ...         Yes   \n",
            "1253        No         Rarely  More than 1000          No  ...  Don't know   \n",
            "1255       Yes          Often          26-100         Yes  ...         Yes   \n",
            "1256       Yes      Sometimes  More than 1000          No  ...  Don't know   \n",
            "1258       Yes      Sometimes          26-100          No  ...         Yes   \n",
            "\n",
            "                   leave mental_health_consequence phys_health_consequence  \\\n",
            "0          Somewhat easy                        No                      No   \n",
            "1             Don't know                     Maybe                      No   \n",
            "2     Somewhat difficult                        No                      No   \n",
            "3     Somewhat difficult                       Yes                     Yes   \n",
            "4             Don't know                        No                      No   \n",
            "...                  ...                       ...                     ...   \n",
            "1252          Don't know                       Yes                      No   \n",
            "1253       Somewhat easy                     Maybe                   Maybe   \n",
            "1255  Somewhat difficult                        No                      No   \n",
            "1256  Somewhat difficult                       Yes                     Yes   \n",
            "1258          Don't know                     Maybe                      No   \n",
            "\n",
            "         coworkers    supervisor mental_health_interview  \\\n",
            "0     Some of them           Yes                      No   \n",
            "1               No            No                      No   \n",
            "2              Yes           Yes                     Yes   \n",
            "3     Some of them            No                   Maybe   \n",
            "4     Some of them           Yes                     Yes   \n",
            "...            ...           ...                     ...   \n",
            "1252  Some of them            No                      No   \n",
            "1253  Some of them  Some of them                      No   \n",
            "1255  Some of them           Yes                      No   \n",
            "1256            No            No                      No   \n",
            "1258  Some of them            No                      No   \n",
            "\n",
            "     phys_health_interview mental_vs_physical obs_consequence  \n",
            "0                    Maybe                Yes              No  \n",
            "1                       No         Don't know              No  \n",
            "2                      Yes                 No              No  \n",
            "3                    Maybe                 No             Yes  \n",
            "4                      Yes         Don't know              No  \n",
            "...                    ...                ...             ...  \n",
            "1252                 Maybe                 No              No  \n",
            "1253                    No         Don't know              No  \n",
            "1255                    No                Yes              No  \n",
            "1256                    No                 No              No  \n",
            "1258                    No         Don't know              No  \n",
            "\n",
            "[979 rows x 25 columns]\n"
          ]
        }
      ]
    },
    {
      "cell_type": "markdown",
      "source": [
        "Identify the countries with the highest and lowest reported rates of mental health issues in the tech industry."
      ],
      "metadata": {
        "id": "qlYxRLXwuZ5X"
      }
    },
    {
      "cell_type": "code",
      "source": [
        "# Calculate the proportions of 'Yes' responses for the 'mental_health_consequence' column for each country\n",
        "country_mental_health_proportions = mental_health_data.groupby('Country')['mental_health_consequence'] \\\n",
        "    .apply(lambda x: (x == 'Yes').mean())\n",
        "\n",
        "# Sort the proportions in ascending order to find the country with the lowest reported rate\n",
        "country_with_lowest_rate = country_mental_health_proportions.idxmin()\n",
        "\n",
        "# Sort the proportions in descending order to find the country with the highest reported rate\n",
        "country_with_highest_rate = country_mental_health_proportions.idxmax()\n",
        "\n",
        "print(\"Country with the lowest reported rate of mental health issues:\", country_with_lowest_rate)\n",
        "print(\"Country with the highest reported rate of mental health issues:\", country_with_highest_rate)\n"
      ],
      "metadata": {
        "colab": {
          "base_uri": "https://localhost:8080/"
        },
        "id": "G93D6kkiucIC",
        "outputId": "31ebbf44-9f52-45a0-b528-328e85a14460"
      },
      "execution_count": 79,
      "outputs": [
        {
          "output_type": "stream",
          "name": "stdout",
          "text": [
            "Country with the lowest reported rate of mental health issues: Austria\n",
            "Country with the highest reported rate of mental health issues: Georgia\n"
          ]
        }
      ]
    }
  ]
}